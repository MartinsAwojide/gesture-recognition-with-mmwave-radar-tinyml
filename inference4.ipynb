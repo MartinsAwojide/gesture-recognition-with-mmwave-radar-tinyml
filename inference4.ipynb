{
 "cells": [
  {
   "cell_type": "markdown",
   "id": "0b86510a",
   "metadata": {},
   "source": [
    "# Raw data as input"
   ]
  },
  {
   "cell_type": "code",
   "execution_count": 1,
   "id": "6b7b1590",
   "metadata": {},
   "outputs": [
    {
     "name": "stderr",
     "output_type": "stream",
     "text": [
      "2022-12-01 17:28:21.067350: I tensorflow/stream_executor/platform/default/dso_loader.cc:53] Successfully opened dynamic library libcudart.so.11.0\n"
     ]
    }
   ],
   "source": [
    "import tensorflow as tf \n",
    "import numpy as np \n",
    "import pandas as pd \n",
    "from numpy import genfromtxt\n",
    "from sklearn import preprocessing"
   ]
  },
  {
   "cell_type": "code",
   "execution_count": 2,
   "id": "a0402695",
   "metadata": {},
   "outputs": [
    {
     "name": "stderr",
     "output_type": "stream",
     "text": [
      "2022-12-01 17:28:34.786516: I tensorflow/stream_executor/platform/default/dso_loader.cc:53] Successfully opened dynamic library libcuda.so.1\n",
      "2022-12-01 17:28:34.862274: I tensorflow/stream_executor/cuda/cuda_gpu_executor.cc:937] successful NUMA node read from SysFS had negative value (-1), but there must be at least one NUMA node, so returning NUMA node zero\n",
      "2022-12-01 17:28:34.862586: I tensorflow/core/common_runtime/gpu/gpu_device.cc:1733] Found device 0 with properties: \n",
      "pciBusID: 0000:01:00.0 name: NVIDIA GeForce GTX 1050 Ti computeCapability: 6.1\n",
      "coreClock: 1.62GHz coreCount: 6 deviceMemorySize: 3.95GiB deviceMemoryBandwidth: 104.43GiB/s\n",
      "2022-12-01 17:28:34.862610: I tensorflow/stream_executor/platform/default/dso_loader.cc:53] Successfully opened dynamic library libcudart.so.11.0\n",
      "2022-12-01 17:28:34.866626: I tensorflow/stream_executor/platform/default/dso_loader.cc:53] Successfully opened dynamic library libcublas.so.11\n",
      "2022-12-01 17:28:34.866679: I tensorflow/stream_executor/platform/default/dso_loader.cc:53] Successfully opened dynamic library libcublasLt.so.11\n",
      "2022-12-01 17:28:34.867518: I tensorflow/stream_executor/platform/default/dso_loader.cc:53] Successfully opened dynamic library libcufft.so.10\n",
      "2022-12-01 17:28:34.867722: I tensorflow/stream_executor/platform/default/dso_loader.cc:53] Successfully opened dynamic library libcurand.so.10\n",
      "2022-12-01 17:28:34.868176: I tensorflow/stream_executor/platform/default/dso_loader.cc:53] Successfully opened dynamic library libcusolver.so.11\n",
      "2022-12-01 17:28:34.868935: I tensorflow/stream_executor/platform/default/dso_loader.cc:53] Successfully opened dynamic library libcusparse.so.11\n",
      "2022-12-01 17:28:34.869083: I tensorflow/stream_executor/platform/default/dso_loader.cc:53] Successfully opened dynamic library libcudnn.so.8\n",
      "2022-12-01 17:28:34.869184: I tensorflow/stream_executor/cuda/cuda_gpu_executor.cc:937] successful NUMA node read from SysFS had negative value (-1), but there must be at least one NUMA node, so returning NUMA node zero\n",
      "2022-12-01 17:28:34.869521: I tensorflow/stream_executor/cuda/cuda_gpu_executor.cc:937] successful NUMA node read from SysFS had negative value (-1), but there must be at least one NUMA node, so returning NUMA node zero\n",
      "2022-12-01 17:28:34.869759: I tensorflow/core/common_runtime/gpu/gpu_device.cc:1871] Adding visible gpu devices: 0\n",
      "2022-12-01 17:28:34.870073: I tensorflow/core/platform/cpu_feature_guard.cc:142] This TensorFlow binary is optimized with oneAPI Deep Neural Network Library (oneDNN) to use the following CPU instructions in performance-critical operations:  AVX2 FMA\n",
      "To enable them in other operations, rebuild TensorFlow with the appropriate compiler flags.\n",
      "2022-12-01 17:28:34.870437: I tensorflow/stream_executor/cuda/cuda_gpu_executor.cc:937] successful NUMA node read from SysFS had negative value (-1), but there must be at least one NUMA node, so returning NUMA node zero\n",
      "2022-12-01 17:28:34.870723: I tensorflow/core/common_runtime/gpu/gpu_device.cc:1733] Found device 0 with properties: \n",
      "pciBusID: 0000:01:00.0 name: NVIDIA GeForce GTX 1050 Ti computeCapability: 6.1\n",
      "coreClock: 1.62GHz coreCount: 6 deviceMemorySize: 3.95GiB deviceMemoryBandwidth: 104.43GiB/s\n",
      "2022-12-01 17:28:34.870794: I tensorflow/stream_executor/cuda/cuda_gpu_executor.cc:937] successful NUMA node read from SysFS had negative value (-1), but there must be at least one NUMA node, so returning NUMA node zero\n",
      "2022-12-01 17:28:34.871147: I tensorflow/stream_executor/cuda/cuda_gpu_executor.cc:937] successful NUMA node read from SysFS had negative value (-1), but there must be at least one NUMA node, so returning NUMA node zero\n",
      "2022-12-01 17:28:34.871396: I tensorflow/core/common_runtime/gpu/gpu_device.cc:1871] Adding visible gpu devices: 0\n",
      "2022-12-01 17:28:34.871429: I tensorflow/stream_executor/platform/default/dso_loader.cc:53] Successfully opened dynamic library libcudart.so.11.0\n",
      "2022-12-01 17:28:35.309598: I tensorflow/core/common_runtime/gpu/gpu_device.cc:1258] Device interconnect StreamExecutor with strength 1 edge matrix:\n",
      "2022-12-01 17:28:35.309624: I tensorflow/core/common_runtime/gpu/gpu_device.cc:1264]      0 \n",
      "2022-12-01 17:28:35.309630: I tensorflow/core/common_runtime/gpu/gpu_device.cc:1277] 0:   N \n",
      "2022-12-01 17:28:35.309791: I tensorflow/stream_executor/cuda/cuda_gpu_executor.cc:937] successful NUMA node read from SysFS had negative value (-1), but there must be at least one NUMA node, so returning NUMA node zero\n",
      "2022-12-01 17:28:35.310097: I tensorflow/stream_executor/cuda/cuda_gpu_executor.cc:937] successful NUMA node read from SysFS had negative value (-1), but there must be at least one NUMA node, so returning NUMA node zero\n",
      "2022-12-01 17:28:35.310448: I tensorflow/stream_executor/cuda/cuda_gpu_executor.cc:937] successful NUMA node read from SysFS had negative value (-1), but there must be at least one NUMA node, so returning NUMA node zero\n",
      "2022-12-01 17:28:35.310750: I tensorflow/core/common_runtime/gpu/gpu_device.cc:1418] Created TensorFlow device (/job:localhost/replica:0/task:0/device:GPU:0 with 2262 MB memory) -> physical GPU (device: 0, name: NVIDIA GeForce GTX 1050 Ti, pci bus id: 0000:01:00.0, compute capability: 6.1)\n"
     ]
    }
   ],
   "source": [
    "model = tf.keras.models.load_model('model/model_raw.h5')"
   ]
  },
  {
   "cell_type": "code",
   "execution_count": 3,
   "id": "6778a8f7",
   "metadata": {},
   "outputs": [
    {
     "name": "stdout",
     "output_type": "stream",
     "text": [
      "Model: \"sequential\"\n",
      "_________________________________________________________________\n",
      "Layer (type)                 Output Shape              Param #   \n",
      "=================================================================\n",
      "dense (Dense)                (None, 20)                145280    \n",
      "_________________________________________________________________\n",
      "dense_1 (Dense)              (None, 10)                210       \n",
      "_________________________________________________________________\n",
      "y_pred (Dense)               (None, 2)                 22        \n",
      "=================================================================\n",
      "Total params: 145,512\n",
      "Trainable params: 145,512\n",
      "Non-trainable params: 0\n",
      "_________________________________________________________________\n"
     ]
    }
   ],
   "source": [
    "model.summary()"
   ]
  },
  {
   "cell_type": "code",
   "execution_count": 4,
   "id": "6b69a390",
   "metadata": {},
   "outputs": [
    {
     "name": "stdout",
     "output_type": "stream",
     "text": [
      "timestamp, ObjectNumber,Range,Velocity,PeakValue,x,y\r\n",
      "0,0,0.000000,0.000000,0.000000,0.000000,0.000000\r\n",
      "1,1,0.562500,0.750020,24.000000,-0.386719,0.408203\r\n",
      "2,1,0.609375,-0.125003,78.000000,-0.380859,0.476562\r\n",
      "2,2,0.656250,-0.125003,98.000000,-0.390625,0.527344\r\n",
      "3,1,0.656250,0.250007,62.000000,-0.390625,0.527344\r\n",
      "3,2,0.656250,0.375010,35.000000,-0.369141,0.542969\r\n",
      "4,1,0.609375,0.125003,48.000000,-0.380859,0.476562\r\n",
      "5,1,0.609375,0.125003,48.000000,-0.380859,0.476562\r\n",
      "6,1,0.609375,0.125003,52.000000,-0.361328,0.490234\r\n",
      "7,1,0.609375,0.125003,52.000000,-0.361328,0.490234\r\n",
      "8,1,0.609375,0.000000,20.000000,-0.343750,0.503906\r\n",
      "8,2,0.656250,0.000000,22.000000,-0.390625,0.527344\r\n",
      "8,3,0.609375,0.125003,43.000000,-0.361328,0.490234\r\n",
      "9,1,0.609375,0.000000,20.000000,-0.343750,0.503906\r\n",
      "9,2,0.656250,0.000000,22.000000,-0.390625,0.527344\r\n",
      "9,3,0.609375,0.125003,43.000000,-0.361328,0.490234\r\n",
      "10,1,0.609375,-0.125003,36.000000,-0.343750,0.503906\r\n",
      "11,1,0.609375,-0.125003,36.000000,-0.343750,0.503906\r\n",
      "11,2,0.656250,0.125003,36.000000,-0.390625,0.527344\r\n",
      "12,1,0.609375,-0.125003,36.000000,-0.343750,0.503906\r\n",
      "12,2,0.656250,0.125003,36.000000,-0.390625,0.527344\r\n",
      "13,1,0.609375,-0.125003,49.000000,-0.361328,0.490234\r\n",
      "13,2,0.656250,-0.125003,66.000000,-0.390625,0.527344\r\n",
      "14,1,0.609375,-0.125003,49.000000,-0.361328,0.490234\r\n",
      "14,2,0.656250,-0.125003,66.000000,-0.390625,0.527344\r\n",
      "15,1,0.656250,-0.125003,38.000000,-0.369141,0.542969\r\n",
      "16,1,0.656250,-0.125003,38.000000,-0.369141,0.542969\r\n",
      "17,1,0.562500,-0.125003,36.000000,-0.386719,0.408203\r\n",
      "18,1,0.562500,-0.125003,36.000000,-0.386719,0.408203\r\n",
      "19,1,0.562500,-0.125003,36.000000,-0.386719,0.408203\r\n"
     ]
    }
   ],
   "source": [
    "cat data/stop_gesture/gesture_9.csv"
   ]
  },
  {
   "cell_type": "code",
   "execution_count": 8,
   "id": "0fe6078e",
   "metadata": {},
   "outputs": [],
   "source": [
    "label = [\"right\",\"stop\"]\n",
    "\n",
    "def inference(model, data):\n",
    "    data = pd.read_csv(data, usecols=[3,5,6])\n",
    "    data_empty = np.zeros((7263,))\n",
    "    data_concate = np.concatenate((data.reshape(-1,1), data_empty.reshape(-1,1)))\n",
    "    data_result = data_concate.reshape(1,-1)\n",
    "    output = np.argmax(model.predict(data_result))\n",
    "    pred = label[output]\n",
    "    return pred \n",
    "    "
   ]
  },
  {
   "cell_type": "code",
   "execution_count": 12,
   "id": "e90f878c",
   "metadata": {},
   "outputs": [],
   "source": [
    "label = [\"right\",\"stop\"]\n",
    "\n",
    "def inference(model, data):\n",
    "    data = pd.read_csv(data, usecols=[3,5,6]).values\n",
    "    data_empty = np.zeros((7263,))\n",
    "    data_concate = np.concatenate((data.reshape(-1,1), data_empty.reshape(-1,1)))\n",
    "    data_result = data_concate.reshape(-1,1)\n",
    "    data_result = data_result[:data_empty.shape[0]]\n",
    "    output = np.argmax(model.predict(data_result.reshape(1,-1)))\n",
    "    pred = label[output]\n",
    "\n",
    "    return pred \n",
    "    "
   ]
  },
  {
   "cell_type": "code",
   "execution_count": 19,
   "id": "8169b580",
   "metadata": {},
   "outputs": [
    {
     "name": "stdout",
     "output_type": "stream",
     "text": [
      "stop\n",
      "stop\n",
      "stop\n",
      "stop\n",
      "stop\n",
      "stop\n",
      "right\n",
      "stop\n",
      "right\n",
      "right\n"
     ]
    }
   ],
   "source": [
    "import os \n",
    "for i in os.listdir('data/arm_to_right/'): \n",
    "    result = inference(model, f\"data/arm_to_right/{i}\")\n",
    "    print(result)"
   ]
  },
  {
   "cell_type": "code",
   "execution_count": 20,
   "id": "d3fdabf4",
   "metadata": {},
   "outputs": [
    {
     "name": "stdout",
     "output_type": "stream",
     "text": [
      "stop\n",
      "stop\n",
      "stop\n",
      "right\n",
      "stop\n",
      "stop\n",
      "stop\n",
      "stop\n",
      "right\n",
      "stop\n",
      "stop\n"
     ]
    }
   ],
   "source": [
    "import os \n",
    "for i in os.listdir('data/stop_gesture/'): \n",
    "    result = inference(model, f\"data/stop_gesture/{i}\")\n",
    "    print(result)"
   ]
  },
  {
   "cell_type": "code",
   "execution_count": null,
   "id": "7ff6c326",
   "metadata": {},
   "outputs": [],
   "source": []
  }
 ],
 "metadata": {
  "kernelspec": {
   "display_name": "Python 3 (ipykernel)",
   "language": "python",
   "name": "python3"
  },
  "language_info": {
   "codemirror_mode": {
    "name": "ipython",
    "version": 3
   },
   "file_extension": ".py",
   "mimetype": "text/x-python",
   "name": "python",
   "nbconvert_exporter": "python",
   "pygments_lexer": "ipython3",
   "version": "3.8.10"
  }
 },
 "nbformat": 4,
 "nbformat_minor": 5
}
