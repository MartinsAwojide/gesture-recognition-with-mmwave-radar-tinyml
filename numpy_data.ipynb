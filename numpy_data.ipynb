{
 "cells": [
  {
   "cell_type": "code",
   "execution_count": 8,
   "id": "c3e87fb3",
   "metadata": {},
   "outputs": [
    {
     "name": "stderr",
     "output_type": "stream",
     "text": [
      "2022-12-03 00:12:32.073228: I tensorflow/stream_executor/platform/default/dso_loader.cc:53] Successfully opened dynamic library libcudart.so.11.0\n"
     ]
    }
   ],
   "source": [
    "import tensorflow as tf\n",
    "import numpy as np "
   ]
  },
  {
   "cell_type": "code",
   "execution_count": 9,
   "id": "3f413540",
   "metadata": {},
   "outputs": [],
   "source": [
    "data_x = np.load(\"numpy_data/ei-testing-lstm-raw-data-X.npy\")\n",
    "data_y = np.load(\"numpy_data/ei-testing-lstm-raw-data-y.npy\")"
   ]
  },
  {
   "cell_type": "code",
   "execution_count": 41,
   "id": "6a1bdea4",
   "metadata": {},
   "outputs": [
    {
     "data": {
      "text/plain": [
       "(16, 7263)"
      ]
     },
     "execution_count": 41,
     "metadata": {},
     "output_type": "execute_result"
    }
   ],
   "source": [
    "data_x.shape"
   ]
  },
  {
   "cell_type": "code",
   "execution_count": 42,
   "id": "7974418e",
   "metadata": {},
   "outputs": [
    {
     "data": {
      "text/plain": [
       "(16, 4)"
      ]
     },
     "execution_count": 42,
     "metadata": {},
     "output_type": "execute_result"
    }
   ],
   "source": [
    "data_y.shape"
   ]
  },
  {
   "cell_type": "code",
   "execution_count": 43,
   "id": "4d4e75bf",
   "metadata": {},
   "outputs": [
    {
     "data": {
      "text/plain": [
       "(7263,)"
      ]
     },
     "execution_count": 43,
     "metadata": {},
     "output_type": "execute_result"
    }
   ],
   "source": [
    "data_x[2].shape"
   ]
  },
  {
   "cell_type": "code",
   "execution_count": 44,
   "id": "de28688f",
   "metadata": {},
   "outputs": [
    {
     "data": {
      "text/plain": [
       "(4,)"
      ]
     },
     "execution_count": 44,
     "metadata": {},
     "output_type": "execute_result"
    }
   ],
   "source": [
    "data_y[0].shape"
   ]
  },
  {
   "cell_type": "code",
   "execution_count": 45,
   "id": "2a215111",
   "metadata": {},
   "outputs": [
    {
     "data": {
      "text/plain": [
       "7263"
      ]
     },
     "execution_count": 45,
     "metadata": {},
     "output_type": "execute_result"
    }
   ],
   "source": [
    "len(data_x[2].tolist())"
   ]
  },
  {
   "cell_type": "code",
   "execution_count": 46,
   "id": "7c7f72eb",
   "metadata": {},
   "outputs": [
    {
     "data": {
      "text/plain": [
       "array([0., 0., 0., ..., 0., 0., 0.], dtype=float32)"
      ]
     },
     "execution_count": 46,
     "metadata": {},
     "output_type": "execute_result"
    }
   ],
   "source": [
    "data_x[0]"
   ]
  },
  {
   "cell_type": "code",
   "execution_count": 47,
   "id": "e4dfc3aa",
   "metadata": {},
   "outputs": [
    {
     "data": {
      "text/plain": [
       "array([0., 0., 0., ..., 0., 0., 0.], dtype=float32)"
      ]
     },
     "execution_count": 47,
     "metadata": {},
     "output_type": "execute_result"
    }
   ],
   "source": [
    "data_x[1]"
   ]
  },
  {
   "cell_type": "code",
   "execution_count": 48,
   "id": "209bde5d",
   "metadata": {},
   "outputs": [
    {
     "data": {
      "text/plain": [
       "array([0., 0., 0., ..., 0., 0., 0.], dtype=float32)"
      ]
     },
     "execution_count": 48,
     "metadata": {},
     "output_type": "execute_result"
    }
   ],
   "source": [
    "data_x[2]"
   ]
  },
  {
   "cell_type": "code",
   "execution_count": 49,
   "id": "16f03a87",
   "metadata": {},
   "outputs": [
    {
     "data": {
      "text/plain": [
       "array([0., 0., 0., ..., 0., 0., 0.], dtype=float32)"
      ]
     },
     "execution_count": 49,
     "metadata": {},
     "output_type": "execute_result"
    }
   ],
   "source": [
    "data_x[3]"
   ]
  },
  {
   "cell_type": "code",
   "execution_count": 50,
   "id": "52df7d4b",
   "metadata": {},
   "outputs": [
    {
     "data": {
      "text/plain": [
       "array([        1, 154091060,         0,      2421], dtype=int32)"
      ]
     },
     "execution_count": 50,
     "metadata": {},
     "output_type": "execute_result"
    }
   ],
   "source": [
    "data_y[1]"
   ]
  },
  {
   "cell_type": "code",
   "execution_count": 51,
   "id": "11acf056",
   "metadata": {},
   "outputs": [
    {
     "data": {
      "text/plain": [
       "array([        1, 154091059,         0,      2421], dtype=int32)"
      ]
     },
     "execution_count": 51,
     "metadata": {},
     "output_type": "execute_result"
    }
   ],
   "source": [
    "data_y[2]"
   ]
  },
  {
   "cell_type": "code",
   "execution_count": 52,
   "id": "da93d536",
   "metadata": {},
   "outputs": [
    {
     "data": {
      "text/plain": [
       "array([        1, 154091057,         0,      2421], dtype=int32)"
      ]
     },
     "execution_count": 52,
     "metadata": {},
     "output_type": "execute_result"
    }
   ],
   "source": [
    "data_y[3]"
   ]
  },
  {
   "cell_type": "code",
   "execution_count": 53,
   "id": "d0dc078c",
   "metadata": {},
   "outputs": [
    {
     "data": {
      "text/plain": [
       "array([        1, 154091054,         0,      2421], dtype=int32)"
      ]
     },
     "execution_count": 53,
     "metadata": {},
     "output_type": "execute_result"
    }
   ],
   "source": [
    "data_y[4]"
   ]
  },
  {
   "cell_type": "code",
   "execution_count": 54,
   "id": "c134b887",
   "metadata": {},
   "outputs": [
    {
     "data": {
      "text/plain": [
       "array([        1, 154091053,         0,      2421], dtype=int32)"
      ]
     },
     "execution_count": 54,
     "metadata": {},
     "output_type": "execute_result"
    }
   ],
   "source": [
    "data_y[5]"
   ]
  },
  {
   "cell_type": "code",
   "execution_count": 55,
   "id": "94f54eb4",
   "metadata": {},
   "outputs": [
    {
     "data": {
      "text/plain": [
       "array([        2, 154091040,         0,      2421], dtype=int32)"
      ]
     },
     "execution_count": 55,
     "metadata": {},
     "output_type": "execute_result"
    }
   ],
   "source": [
    "data_y[15]"
   ]
  },
  {
   "cell_type": "code",
   "execution_count": 61,
   "id": "f0eb0e59",
   "metadata": {},
   "outputs": [
    {
     "data": {
      "text/plain": [
       "4"
      ]
     },
     "execution_count": 61,
     "metadata": {},
     "output_type": "execute_result"
    }
   ],
   "source": [
    "len(data_y[15].tolist())"
   ]
  },
  {
   "cell_type": "code",
   "execution_count": 58,
   "id": "79377de7",
   "metadata": {},
   "outputs": [],
   "source": [
    "# data_y[20]"
   ]
  },
  {
   "cell_type": "code",
   "execution_count": 59,
   "id": "25e15293",
   "metadata": {},
   "outputs": [],
   "source": [
    "# data_y[23]"
   ]
  },
  {
   "cell_type": "code",
   "execution_count": 39,
   "id": "9ed612cc",
   "metadata": {},
   "outputs": [],
   "source": [
    "data_x = np.load(\"data_raw/x.npy\")\n",
    "data_y = np.load(\"data_raw/y.npy\")"
   ]
  },
  {
   "cell_type": "code",
   "execution_count": null,
   "id": "253e24ca",
   "metadata": {},
   "outputs": [],
   "source": []
  }
 ],
 "metadata": {
  "kernelspec": {
   "display_name": "Python 3 (ipykernel)",
   "language": "python",
   "name": "python3"
  },
  "language_info": {
   "codemirror_mode": {
    "name": "ipython",
    "version": 3
   },
   "file_extension": ".py",
   "mimetype": "text/x-python",
   "name": "python",
   "nbconvert_exporter": "python",
   "pygments_lexer": "ipython3",
   "version": "3.8.10"
  }
 },
 "nbformat": 4,
 "nbformat_minor": 5
}
